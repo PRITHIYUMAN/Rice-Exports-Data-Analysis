{
  "nbformat": 4,
  "nbformat_minor": 0,
  "metadata": {
    "colab": {
      "provenance": [],
      "authorship_tag": "ABX9TyMYyMUg7cQ3m7kG6O2ASpGR",
      "include_colab_link": true
    },
    "kernelspec": {
      "name": "python3",
      "display_name": "Python 3"
    },
    "language_info": {
      "name": "python"
    }
  },
  "cells": [
    {
      "cell_type": "markdown",
      "metadata": {
        "id": "view-in-github",
        "colab_type": "text"
      },
      "source": [
        "<a href=\"https://colab.research.google.com/github/PRITHIYUMAN/Rice-Exports-Data-Analysis/blob/main/Rice_Exports_Data_Analysis.ipynb\" target=\"_parent\"><img src=\"https://colab.research.google.com/assets/colab-badge.svg\" alt=\"Open In Colab\"/></a>"
      ]
    },
    {
      "cell_type": "code",
      "source": [
        "import pandas as pd\n",
        "\n",
        "# Load the comprehensive dataset\n",
        "df = pd.read_csv('C:/Users/aasai/OneDrive/Desktop/rice/Rice Exporters 2022 - Jan.csv')\n",
        "\n",
        "# Display basic information about the dataset\n",
        "print(df.info())\n",
        "\n",
        "# Display the first few rows of the dataset\n",
        "print(df.head())\n"
      ],
      "metadata": {
        "id": "FAFAhHq8iTL3"
      },
      "execution_count": null,
      "outputs": []
    },
    {
      "cell_type": "code",
      "source": [
        "from google.colab import files\n",
        "\n",
        "# Upload the file\n",
        "uploaded = files.upload()\n",
        "\n",
        "# Read the uploaded file into a DataFrame\n",
        "import io\n",
        "df = pd.read_csv(io.BytesIO(uploaded['Rice Exporters 2022 - Jan.csv']))"
      ],
      "metadata": {
        "id": "RGhiPbn6E_Ty"
      },
      "execution_count": null,
      "outputs": []
    },
    {
      "cell_type": "code",
      "source": [
        "# Handling missing values\n",
        "df.dropna(inplace=True)\n",
        "\n",
        "# Handling duplicates\n",
        "df.drop_duplicates(inplace=True)\n",
        "\n",
        "# Convert date columns to datetime format\n",
        "df['ARRIVAL DATE'] = pd.to_datetime(df['ARRIVAL DATE'])\n",
        "\n",
        "# Handle outliers in quantities and values\n",
        "# Example: Remove rows where export quantity or value is negative\n",
        "df = df[df['QUANTITY'] >= 0]\n",
        "\n",
        "# Save the cleaned data\n",
        "df.to_csv('cleaned_comprehensive_rice_exports_data.csv', index=False)\n",
        "print(df)"
      ],
      "metadata": {
        "colab": {
          "base_uri": "https://localhost:8080/"
        },
        "id": "TKzQ6pW9imlI",
        "outputId": "4a8ddc11-858a-4014-b32d-3bb4abbdf7b4"
      },
      "execution_count": null,
      "outputs": [
        {
          "output_type": "stream",
          "name": "stdout",
          "text": [
            "Empty DataFrame\n",
            "Columns: [NO, ARRIVAL DATE, HS CODE, HS CODE DESCRIPTION, IMPORTER NAME, IMPORTER ADDRESS, IMPORTER COUNTRY, CITY STATE, TEL, FAX, E-MAIL, WEB, EXPORTER NAME, EXPORTER ADDRESS, COUNTRY OF ORIGIN, IMPORT VALUE FOB, IMPORT VALUE CIF, CURRENCY, NET WEIGHT, NET WEIGHT UNIT, GROSS WEIGHT, GROSS WEIGHT UNIT, QUANTITY, QUANTITY UNIT, PRODUCT DETAILS, NUMBER OF PACKAGES, PACKAGES UNIT, INCOTERMS, PLACE OF DELIVERY, BRAND NAME, MANUFACTORING COMPANY, PORT OF ARRIVAL, PORT OF DEPARTURE, NOTIFY PARTY, NOTIFY ADDRESS, VOLUME, VOLUME UNIT, PREPORT, SHIPPER COUNTRY, US STATE, US PORT2, FINAL US PORT, FINAL FOREIGN PORT, FINAL COUNTRY, CONTAINER COUNT, TOTAL TEUS]\n",
            "Index: []\n",
            "\n",
            "[0 rows x 46 columns]\n"
          ]
        }
      ]
    },
    {
      "cell_type": "code",
      "source": [
        "import matplotlib.pyplot as plt\n",
        "import seaborn as sns\n",
        "\n",
        "# Load the cleaned data\n",
        "df = pd.read_csv('/content/Rice Exporters 2022 - Jan.csv')\n",
        "\n",
        "# Summary statistics\n",
        "print(df.describe())\n",
        "\n",
        "# Explore top exporting and importing countries\n",
        "top_exporters = df.groupby('EXPORTER NAME')['QUANTITY'].sum().sort_values(ascending=False).head(10)\n",
        "top_importers = df.groupby('IMPORTER NAME')['QUANTITY'].sum().sort_values(ascending=False).head(10)\n",
        "\n",
        "# Print the top exporters and importers\n",
        "print(\"Top Exporters:\")\n",
        "print(top_exporters)\n",
        "print(\"\\nTop Importers:\")\n",
        "print(top_importers)\n",
        "\n",
        "# Visualize top exporting countries\n",
        "plt.figure(figsize=(12, 6))\n",
        "sns.barplot(x=top_exporters.values, y=top_exporters.index, palette='viridis')\n",
        "plt.title('Top 10 Exporting Countries')\n",
        "plt.xlabel('QUANTITY (in tons)')\n",
        "plt.show()\n",
        "\n",
        "\n",
        "\n",
        "#df.to_csv('cleaned_comprehensive_rice_exports_data.csv', index=False)\n",
        "#print(df)\n"
      ],
      "metadata": {
        "id": "YSzknjwOoq72"
      },
      "execution_count": null,
      "outputs": []
    },
    {
      "cell_type": "code",
      "source": [
        "! pip install streamlit"
      ],
      "metadata": {
        "id": "2vVS8BJhxITF"
      },
      "execution_count": null,
      "outputs": []
    },
    {
      "cell_type": "code",
      "source": [
        "!npm install localtunnel"
      ],
      "metadata": {
        "id": "at9OYNMAxVix"
      },
      "execution_count": null,
      "outputs": []
    },
    {
      "cell_type": "code",
      "source": [
        "!streamlit run rice.py &>/content/logs.txt & npx localtunnel --port 8501 & curl ipv4.icanhazip.com"
      ],
      "metadata": {
        "colab": {
          "base_uri": "https://localhost:8080/"
        },
        "id": "hVSPadkhxaPi",
        "outputId": "08c75d3b-cf9e-4cea-bde6-1647a0f28706"
      },
      "execution_count": null,
      "outputs": [
        {
          "output_type": "stream",
          "name": "stdout",
          "text": [
            "35.243.209.59\n",
            "\u001b[K\u001b[?25hnpx: installed 22 in 2.85s\n",
            "your url is: https://chilly-foxes-stare.loca.lt\n"
          ]
        }
      ]
    }
  ]
}